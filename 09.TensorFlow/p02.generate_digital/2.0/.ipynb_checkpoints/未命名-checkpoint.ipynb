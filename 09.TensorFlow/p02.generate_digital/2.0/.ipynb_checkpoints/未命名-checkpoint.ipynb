{
 "cells": [
  {
   "cell_type": "code",
   "execution_count": 1,
   "metadata": {},
   "outputs": [],
   "source": [
    "import os"
   ]
  },
  {
   "cell_type": "code",
   "execution_count": 2,
   "metadata": {},
   "outputs": [],
   "source": [
    "import numpy as np"
   ]
  },
  {
   "cell_type": "code",
   "execution_count": 3,
   "metadata": {},
   "outputs": [],
   "source": [
    "from tensorflow import keras"
   ]
  },
  {
   "cell_type": "code",
   "execution_count": 4,
   "metadata": {},
   "outputs": [],
   "source": [
    "from tensorflow.keras import layers"
   ]
  },
  {
   "cell_type": "code",
   "execution_count": 5,
   "metadata": {},
   "outputs": [],
   "source": [
    "import matplotlib.pyplot as plt"
   ]
  },
  {
   "cell_type": "code",
   "execution_count": 9,
   "metadata": {},
   "outputs": [],
   "source": [
    "import tensorflow as tf"
   ]
  },
  {
   "cell_type": "code",
   "execution_count": 7,
   "metadata": {},
   "outputs": [],
   "source": [
    "class DataSource(object):\n",
    "    def __init__(self):\n",
    "        (train_images, train_labels), (_, _) = tf.keras.datasets.mnist.load_data()\n",
    "        train_images = train_images.reshape(train_images.shape[0], 28, 28, 1).astype('float32')\n",
    "        train_images = (train_images - 127.5) / 127.5\n",
    "\n",
    "        self.train_images, self.train_labels = train_images, train_labels\n",
    "        self.test_images, self.test_labels = test_images, test_labels\n",
    "        \n",
    "        self.datasets = tf.data.Dataset.from_tensor_slices(train_images)\n",
    "        self.datasets = datasets.shuffle(BUFFER_SIZE).batch(BATCH_SIZE)"
   ]
  },
  {
   "cell_type": "code",
   "execution_count": 8,
   "metadata": {},
   "outputs": [],
   "source": [
    "BATCH_SIZE = 256\n",
    "BUFFER_SIZE = 60000"
   ]
  },
  {
   "cell_type": "code",
   "execution_count": 10,
   "metadata": {},
   "outputs": [],
   "source": [
    "class GAN(object):\n",
    "    def __init__(self):\n",
    "        cross_entropy = tf.keras.losses.BinaryCrossentropy(from_logits=True)\n",
    "        num_exp_to_generate = 16\n",
    "\n",
    "        seed = tf.random.normal([num_exp_to_generate, noise_dim])\n",
    "    def generator_model():\n",
    "        model = keras.Sequential()\n",
    "        model.add(layers.Dense(256, input_shape=(100,), use_bias=False))\n",
    "        model.add(layers.BatchNormalization())\n",
    "        model.add(layers.LeakyReLU())\n",
    "\n",
    "        model.add(layers.Dense(512, use_bias=False))\n",
    "        model.add(layers.BatchNormalization())\n",
    "        model.add(layers.LeakyReLU())\n",
    "    \n",
    "        model.add(layers.Dense(28*28*1, use_bias=False, activation='tanh'))\n",
    "        model.add(layers.BatchNormalization())\n",
    "\n",
    "        model.add(layers.Reshape((28, 28, 1)))\n",
    "\n",
    "        return model\n",
    "\n",
    "    def discrimiator_model():\n",
    "        model = keras.Sequential()\n",
    "        model.add(layers.Flatten())\n",
    "\n",
    "        model.add(layers.Dense(512, use_bias=False))\n",
    "        model.add(layers.BatchNormalization())\n",
    "        model.add(layers.LeakyReLU())\n",
    "\n",
    "        model.add(layers.Dense(256, use_bias=False))\n",
    "        model.add(layers.BatchNormalization())\n",
    "        model.add(layers.LeakyReLU())\n",
    "\n",
    "        model.add(layers.Dense(1))\n",
    "\n",
    "        return model\n",
    "\n",
    "    def discrimiator_loss(real_out, fake_out):\n",
    "        real_loss = cross_entropy(tf.ones_like(real_out), real_out)\n",
    "        fake_loss = cross_entropy(tf.zeros_like(fake_out), fake_out)\n",
    "        return real_loss + fake_loss\n",
    "\n",
    "    def generator_loss(fake_out):\n",
    "        return cross_entropy(tf.ones_like(fake_out), fake_out)"
   ]
  },
  {
   "cell_type": "code",
   "execution_count": 14,
   "metadata": {},
   "outputs": [],
   "source": [
    "class Train(object):\n",
    "    def __init__(self):\n",
    "        EPOCHS = 100\n",
    "        noise_dim = 100\n",
    "        num_exp_to_generate = 16\n",
    "        seed = tf.random.normal([num_exp_to_generate, noise_dim])\n",
    "        self.gan = GAN()\n",
    "        self.data = DataSource()\n",
    "        generator = GAN.generator_model()\n",
    "        discrimiator = GAN.discrimiator_model()\n",
    "    def train_step(images):\n",
    "        noise = tf.random.normal([BATCH_SIZE, noise_dim])\n",
    "\n",
    "        with tf.GradientTape() as gen_tape, tf.GradientTape() as disc_tape:\n",
    "            real_out = discrimiator(images, training=True)\n",
    "\n",
    "            gen_image = generator(noise, training=True)\n",
    "            fake_out = discrimiator(gen_image, training=True)\n",
    "    \n",
    "            gen_loss = generator_loss(fake_out)\n",
    "            disc_loss = discrimiator_loss(real_out, fake_out)\n",
    "    \n",
    "            gradient_gen = gen_tape.gradient(gen_loss, generator.trainable_variables)\n",
    "            gradient_disc = disc_tape.gradient(disc_loss, discrimiator.trainable_variables)\n",
    "            generator_opt.apply_gradients(zip(gradient_gen, generator.trainable_variables))\n",
    "            discrimiator_opt.apply_gradients(zip(gradient_disc, discrimiator.trainable_variables))\n",
    "    def genrate_plot_image(gen_model, test_noise):\n",
    "        pre_images = gen_model(test_noise, training=False)\n",
    "        fig = plt.figure(figsize=(4, 4))\n",
    "        for i in range(pre_images.shape[0]):\n",
    "            plt.subplot(4, 4, i+1)\n",
    "            plt.imshow((pre_images[1, :, :, o] + 1)/2, camp='gray')\n",
    "            plt.axis('off')\n",
    "        plt.show()\n",
    "    def train(dataset, epochs):\n",
    "        for epoch in range(epochs):\n",
    "            for image_batch in dataset:\n",
    "                train_step(image_batch)\n",
    "                print('.', end='')\n",
    "            genrate_plot_image(generator, seed)"
   ]
  },
  {
   "cell_type": "code",
   "execution_count": 15,
   "metadata": {},
   "outputs": [
    {
     "ename": "NameError",
     "evalue": "name 'datasets' is not defined",
     "output_type": "error",
     "traceback": [
      "\u001b[0;31m---------------------------------------------------------------------------\u001b[0m",
      "\u001b[0;31mNameError\u001b[0m                                 Traceback (most recent call last)",
      "\u001b[0;32m<ipython-input-15-c35e1672ba91>\u001b[0m in \u001b[0;36m<module>\u001b[0;34m\u001b[0m\n\u001b[1;32m      1\u001b[0m \u001b[0mtrain\u001b[0m \u001b[0;34m=\u001b[0m \u001b[0mTrain\u001b[0m\u001b[0;34m(\u001b[0m\u001b[0;34m)\u001b[0m\u001b[0;34m\u001b[0m\u001b[0;34m\u001b[0m\u001b[0m\n\u001b[0;32m----> 2\u001b[0;31m \u001b[0mtrain\u001b[0m\u001b[0;34m(\u001b[0m\u001b[0mdatasets\u001b[0m\u001b[0;34m,\u001b[0m \u001b[0mEPOCHS\u001b[0m\u001b[0;34m)\u001b[0m\u001b[0;34m\u001b[0m\u001b[0;34m\u001b[0m\u001b[0m\n\u001b[0m",
      "\u001b[0;31mNameError\u001b[0m: name 'datasets' is not defined"
     ]
    }
   ],
   "source": [
    "datasets = D\n",
    "train = Train()\n",
    "train(datasets, EPOCHS)"
   ]
  },
  {
   "cell_type": "code",
   "execution_count": null,
   "metadata": {},
   "outputs": [],
   "source": []
  }
 ],
 "metadata": {
  "kernelspec": {
   "display_name": "Python 3",
   "language": "python",
   "name": "python3"
  },
  "language_info": {
   "codemirror_mode": {
    "name": "ipython",
    "version": 3
   },
   "file_extension": ".py",
   "mimetype": "text/x-python",
   "name": "python",
   "nbconvert_exporter": "python",
   "pygments_lexer": "ipython3",
   "version": "3.7.6"
  }
 },
 "nbformat": 4,
 "nbformat_minor": 4
}
